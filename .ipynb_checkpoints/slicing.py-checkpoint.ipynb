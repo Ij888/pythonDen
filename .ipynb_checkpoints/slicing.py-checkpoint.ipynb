{
 "cells": [
  {
   "cell_type": "code",
   "execution_count": 2,
   "metadata": {},
   "outputs": [
    {
     "name": "stdout",
     "output_type": "stream",
     "text": [
      "Monty\n",
      "Python\n"
     ]
    }
   ],
   "source": [
    "#Slicing is used to get multiple characters (a substring) from a string. \n",
    "#Its syntax is similar to that of indexing, but instead of just one index \n",
    "#you use two indices (numbers) separated by a colon, e.g. str[ind1:ind2].\n",
    "# Example\n",
    "# str[start:end] # items start through end-1\n",
    "# str[start:]    # items start through the rest of the array\n",
    "# str[:end]      # items from the beginning through end-1\n",
    "# str[:]         # a copy of the whole array\n",
    "# Use slicing to get \"Python\" from the monty_python variable. \n",
    "\n",
    "monty_python = \"Monty Python\"\n",
    "monty = monty_python[:5]      # one or both index could be dropped. monty_python[:5] is equal to monty_python[0:5]\n",
    "print(monty) #at this point monty == Monty\n",
    "monty_python = \"Monty Python\" #this need not be called again, the first instantiation still holds\n",
    "python = monty_python[6:12]\n",
    "print(python)\n",
    "\n"
   ]
  },
  {
   "cell_type": "code",
   "execution_count": null,
   "metadata": {},
   "outputs": [],
   "source": []
  },
  {
   "cell_type": "code",
   "execution_count": null,
   "metadata": {},
   "outputs": [],
   "source": []
  }
 ],
 "metadata": {
  "kernelspec": {
   "display_name": "Python 3",
   "language": "python",
   "name": "python3"
  },
  "language_info": {
   "codemirror_mode": {
    "name": "ipython",
    "version": 3
   },
   "file_extension": ".py",
   "mimetype": "text/x-python",
   "name": "python",
   "nbconvert_exporter": "python",
   "pygments_lexer": "ipython3",
   "version": "3.6.4"
  }
 },
 "nbformat": 4,
 "nbformat_minor": 2
}
