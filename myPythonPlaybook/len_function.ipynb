{
 "cells": [
  {
   "cell_type": "code",
   "execution_count": 1,
   "metadata": {},
   "outputs": [
    {
     "name": "stdout",
     "output_type": "stream",
     "text": [
      "\n",
      "It is a really long string\n",
      "triple-quoted strings are used\n",
      "to define multi-line strings\n",
      "\n"
     ]
    }
   ],
   "source": [
    "# The len() function is used to count how many characters a string contains. \n",
    "# Get the first half of the string stored in the variable phrase. \n",
    "# Note: Remember about type conversion. \n",
    "\n",
    "phrase = \"\"\"\n",
    "It is a really long string\n",
    "triple-quoted strings are used\n",
    "to define multi-line strings\n",
    "\"\"\"\n",
    "#first_half = len(int(phrase)/2)\n",
    "first_half = phrase\n",
    "print(first_half)\n"
   ]
  },
  {
   "cell_type": "code",
   "execution_count": null,
   "metadata": {},
   "outputs": [],
   "source": []
  }
 ],
 "metadata": {
  "kernelspec": {
   "display_name": "Python 3",
   "language": "python",
   "name": "python3"
  },
  "language_info": {
   "codemirror_mode": {
    "name": "ipython",
    "version": 3
   },
   "file_extension": ".py",
   "mimetype": "text/x-python",
   "name": "python",
   "nbconvert_exporter": "python",
   "pygments_lexer": "ipython3",
   "version": "3.6.4"
  }
 },
 "nbformat": 4,
 "nbformat_minor": 2
}
